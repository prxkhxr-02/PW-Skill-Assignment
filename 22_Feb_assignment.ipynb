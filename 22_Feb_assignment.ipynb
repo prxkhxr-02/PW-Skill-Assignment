{
  "nbformat": 4,
  "nbformat_minor": 0,
  "metadata": {
    "colab": {
      "provenance": []
    },
    "kernelspec": {
      "name": "python3",
      "display_name": "Python 3"
    },
    "language_info": {
      "name": "python"
    }
  },
  "cells": [
    {
      "cell_type": "code",
      "execution_count": null,
      "metadata": {
        "id": "5MOeRiL-eE2w"
      },
      "outputs": [],
      "source": [
        "from googleapiclient.discovery import build\n",
        "import datetime\n",
        "\n",
        "# Your API key\n",
        "API_KEY = 'YOUR_API_KEY'\n",
        "\n",
        "# YouTube API service object\n",
        "youtube = build('youtube', 'v3', developerKey=API_KEY)\n",
        "\n",
        "def get_first_five_videos():\n",
        "    # Call the API to get the first five videos from a specific channel\n",
        "    request = youtube.search().list(\n",
        "        part='snippet',\n",
        "        channelId='CHANNEL_ID',\n",
        "        maxResults=5,\n",
        "        order='date',  # You can change the order if needed\n",
        "        type='video'\n",
        "    )\n",
        "    response = request.execute()\n",
        "    return response['items']\n",
        "\n",
        "def extract_video_info():\n",
        "    videos = get_first_five_videos()\n",
        "    for video in videos:\n",
        "        video_id = video['id']['videoId']\n",
        "        video_title = video['snippet']['title']\n",
        "        video_published_at = video['snippet']['publishedAt']\n",
        "        video_url = f'https://www.youtube.com/watch?v={video_id}'\n",
        "\n",
        "        # Extracting thumbnails\n",
        "        thumbnails = video['snippet']['thumbnails']\n",
        "        thumbnail_urls = [thumbnails[key]['url'] for key in thumbnails.keys()]\n",
        "\n",
        "        # Call the API to get video statistics\n",
        "        stats_request = youtube.videos().list(\n",
        "            part='statistics',\n",
        "            id=video_id\n",
        "        )\n",
        "        stats_response = stats_request.execute()\n",
        "        view_count = int(stats_response['items'][0]['statistics']['viewCount'])\n",
        "\n",
        "        print(\"Video Title:\", video_title)\n",
        "        print(\"Video URL:\", video_url)\n",
        "        print(\"Thumbnail URLs:\", thumbnail_urls)\n",
        "        print(\"View Count:\", view_count)\n",
        "\n",
        "        # Convert publishedAt to datetime object\n",
        "        published_at_datetime = datetime.datetime.strptime(video_published_at, \"%Y-%m-%dT%H:%M:%SZ\")\n",
        "        print(\"Published At:\", published_at_datetime)\n",
        "        print()\n",
        "\n",
        "extract_video_info()\n"
      ]
    }
  ]
}