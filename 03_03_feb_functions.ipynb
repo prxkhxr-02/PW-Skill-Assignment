{
 "cells": [
  {
   "attachments": {},
   "cell_type": "markdown",
   "metadata": {},
   "source": [
    "# Q1. Which keyword is used to create a function? Create a function to return a list of odd numbers in the range of 1 to 25.\n",
    "def keyword is used to create the function .\n",
    "in python there in no need of return type of the function\n",
    "the syntax of the funtion is \n",
    "def function_name():\n",
    "    body of the function"
   ]
  },
  {
   "cell_type": "code",
   "execution_count": 10,
   "metadata": {},
   "outputs": [
    {
     "name": "stdout",
     "output_type": "stream",
     "text": [
      "1\n",
      "3\n",
      "5\n",
      "7\n",
      "9\n",
      "11\n",
      "13\n",
      "15\n",
      "17\n",
      "19\n",
      "21\n",
      "23\n",
      "25\n"
     ]
    }
   ],
   "source": [
    "\n",
    "def odd_number():\n",
    "    for i in range (0,26):\n",
    "        if (i%2 !=0):\n",
    "            print (i)\n",
    "\n",
    "odd_number()"
   ]
  },
  {
   "attachments": {},
   "cell_type": "markdown",
   "metadata": {},
   "source": [
    " # Q2 Why *args and **kwargs is used in some functions? Create a function each for *args and **kwargs to demonstrate their use.\n",
    "answer -> The `*args` and `**kwargs` parameters in Python functions allow for flexibility when dealing with varying numbers of arguments or keyword arguments. Here's a brief explanation of how they work:\n",
    "\n",
    "- `*args` (Arbitrary Arguments): The `*args` parameter allows a function to accept any number of positional arguments. When `*args` is used in a function definition, it collects all the positional arguments passed to the function into a tuple. The name `args` is arbitrary and can be changed, but the asterisk (*) before the parameter is necessary to denote that it collects multiple arguments.\n",
    "\n",
    "- `**kwargs` (Arbitrary Keyword Arguments): The `**kwargs` parameter allows a function to accept any number of keyword arguments. Similar to `*args`, `**kwargs` collects the keyword arguments into a dictionary. The name `kwargs` is arbitrary and can be changed, but the double asterisks (**) before the parameter are necessary to denote that it collects multiple keyword arguments.\n",
    "\n",
    "Now, let's create a function each for `*args` and `**kwargs` to illustrate their usage:\n",
    "\n",
    "```python\n",
    "def sum_args(*args):\n",
    "    total = sum(args)\n",
    "    return total\n",
    "\n",
    "def print_kwargs(**kwargs):\n",
    "    for key, value in kwargs.items():\n",
    "        print(f\"{key}: {value}\")\n",
    "\n",
    "# Example usage\n",
    "print(sum_args(1, 2, 3, 4))  # Output: 10\n",
    "\n",
    "print_kwargs(name=\"John\", age=25, city=\"New York\")\n",
    "# Output:\n",
    "# name: John\n",
    "# age: 25\n",
    "# city: New York\n",
    "```\n",
    "\n",
    "In the `sum_args` function, `*args` collects all the positional arguments and stores them in a tuple. The function then calculates the sum of the values in the tuple.\n",
    "\n",
    "In the `print_kwargs` function, `**kwargs` collects all the keyword arguments and stores them in a dictionary. The function then iterates over the dictionary and prints each key-value pair.\n",
    "\n",
    "By using `*args` and `**kwargs`, you can create functions that can handle a varying number of arguments or keyword arguments, providing greater flexibility and allowing callers of the function to pass in different numbers of arguments as needed."
   ]
  },
  {
   "cell_type": "code",
   "execution_count": 11,
   "metadata": {},
   "outputs": [
    {
     "name": "stdout",
     "output_type": "stream",
     "text": [
      "name: John\n",
      "age: 30\n",
      "city: New York\n"
     ]
    },
    {
     "data": {
      "text/plain": [
       "('f', [2, 2, 4, 2])"
      ]
     },
     "execution_count": 11,
     "metadata": {},
     "output_type": "execute_result"
    }
   ],
   "source": [
    "def demo(*args):\n",
    "    return args\n",
    "\n",
    "\n",
    "\n",
    "\n",
    "def print_kwargs(**kwargs):\n",
    "    for key, value in kwargs.items():\n",
    "        print(f\"{key}: {value}\")\n",
    "\n",
    "print_kwargs(name=\"John\", age=30, city=\"New York\")\n",
    "demo('f',[2,2,4,2])\n"
   ]
  },
  {
   "attachments": {},
   "cell_type": "markdown",
   "metadata": {},
   "source": [
    "# Q3.  What is an iterator in python? Name the method used to initialise the iterator object and the method used for iteration. Use these methods to print the first five elements of the given list [2, 4, 6, 8, 10, 12, 14, 16, 18, 20].\n",
    "In Python, an iterator is an object that implements the iterator protocol, which consists of two methods: `__iter__()` and `__next__()`. \n",
    "\n",
    "- The `__iter__()` method is used to initialize the iterator object and returns the iterator object itself. It is called when you want to create an iterator from an iterable.\n",
    "\n",
    "- The `__next__()` method is used for iteration and returns the next item in the sequence. It raises the `StopIteration` exception when there are no more items to return.\n",
    "\n",
    "To print the first five elements of the given list [2, 4, 6, 8, 10, 12, 14, 16, 18, 20], we can create an iterator using the `iter()` function and iterate over it using a loop or the `next()` function. Here's an example:\n",
    "\n",
    "```python\n",
    "my_list = [2, 4, 6, 8, 10, 12, 14, 16, 18, 20]\n",
    "\n",
    "# Create an iterator object\n",
    "my_iterator = iter(my_list)\n",
    "\n",
    "# Iterate using a loop\n",
    "for _ in range(5):\n",
    "    element = next(my_iterator)\n",
    "    print(element)\n",
    "\n",
    "# Output: 2, 4, 6, 8, 10\n",
    "```\n",
    "\n",
    "In this example, we first create an iterator object `my_iterator` using the `iter()` function, which takes the list `my_list` as an argument. Then, we use a loop to iterate five times and print the next element of the iterator using the `next()` function. This prints the first five elements of the list [2, 4, 6, 8, 10].\n"
   ]
  },
  {
   "cell_type": "code",
   "execution_count": 12,
   "metadata": {},
   "outputs": [
    {
     "ename": "TypeError",
     "evalue": "'str' object is not an iterator",
     "output_type": "error",
     "traceback": [
      "\u001b[1;31m---------------------------------------------------------------------------\u001b[0m",
      "\u001b[1;31mTypeError\u001b[0m                                 Traceback (most recent call last)",
      "Cell \u001b[1;32mIn[12], line 3\u001b[0m\n\u001b[0;32m      1\u001b[0m li \u001b[39m=\u001b[39m[\u001b[39m2\u001b[39m, \u001b[39m4\u001b[39m, \u001b[39m6\u001b[39m, \u001b[39m8\u001b[39m, \u001b[39m10\u001b[39m, \u001b[39m12\u001b[39m, \u001b[39m14\u001b[39m, \u001b[39m16\u001b[39m, \u001b[39m18\u001b[39m, \u001b[39m20\u001b[39m]\n\u001b[0;32m      2\u001b[0m li1 \u001b[39m=\u001b[39m \u001b[39m\"\u001b[39m\u001b[39mdkfjdk\u001b[39m\u001b[39m\"\u001b[39m\n\u001b[1;32m----> 3\u001b[0m \u001b[39mnext\u001b[39;49m(li1)\n",
      "\u001b[1;31mTypeError\u001b[0m: 'str' object is not an iterator"
     ]
    }
   ],
   "source": [
    "li =[2, 4, 6, 8, 10, 12, 14, 16, 18, 20]\n",
    "li1 = \"dkfjdk\"\n",
    "next(li1)"
   ]
  },
  {
   "attachments": {},
   "cell_type": "markdown",
   "metadata": {},
   "source": [
    "# Q4.  What is a generator function in python? Why yield keyword is used? Give an example of a generator function.\n",
    "In Python, a generator function is a special type of function that returns an iterator object called a generator. Unlike regular functions that use the `return` statement to return a value and terminate, generator functions use the `yield` keyword to produce a sequence of values while maintaining their internal state between successive calls.\n",
    "\n",
    "The `yield` keyword is used in generator functions to define a point at which the function will pause its execution and yield a value to the caller. The function's state is saved, allowing it to resume from where it left off when the next value is requested. This makes generator functions a memory-efficient way to generate a large sequence of values, as they generate values on-the-fly instead of storing them all in memory.\n",
    "\n",
    "Here's an example of a generator function that generates a sequence of even numbers up to a given limit:\n",
    "\n",
    "```python\n",
    "def even_numbers(limit):\n",
    "    n = 0\n",
    "    while n <= limit:\n",
    "        yield n\n",
    "        n += 2\n",
    "\n",
    "# Example usage\n",
    "even_gen = even_numbers(10)\n",
    "\n",
    "# Iterate over the generator and print the values\n",
    "for num in even_gen:\n",
    "    print(num)\n",
    "```\n",
    "\n",
    "In this example, the `even_numbers()` function is a generator function. It uses a `while` loop to generate even numbers. The `yield` keyword is used to yield the current value of `n` as the next value in the sequence. The function's state is saved, allowing it to continue from where it left off in the next iteration of the loop.\n",
    "\n",
    "When calling `even_numbers(10)`, it returns a generator object `even_gen`. We can then iterate over this generator object using a loop or by calling the `next()` function to retrieve the next value in the sequence.\n",
    "\n",
    "When executed, the example code will print the even numbers from 0 to 10: 0, 2, 4, 6, 8, 10. Each value is produced on-the-fly by the generator function, allowing memory-efficient generation of large sequences without storing all the values in memory at once."
   ]
  },
  {
   "attachments": {},
   "cell_type": "markdown",
   "metadata": {},
   "source": [
    "# Q5. Create a generator function for prime numbers less than 1000. Use the next() method to print the first 20 prime numbers.\n",
    "Certainly! Here's an example of a generator function that generates prime numbers less than 1000 and uses the `next()` method to print the first 20 prime numbers:\n",
    "\n",
    "```python\n",
    "def prime_generator():\n",
    "    primes = []\n",
    "    num = 2\n",
    "    while True:\n",
    "        is_prime = True\n",
    "        for prime in primes:\n",
    "            if num % prime == 0:\n",
    "                is_prime = False\n",
    "                break\n",
    "        if is_prime:\n",
    "            primes.append(num)\n",
    "            yield num\n",
    "        num += 1\n",
    "\n",
    "# Create a generator object\n",
    "prime_gen = prime_generator()\n",
    "\n",
    "# Print the first 20 prime numbers\n",
    "for _ in range(20):\n",
    "    prime = next(prime_gen)\n",
    "    print(prime)\n",
    "```\n",
    "\n",
    "In this example, the `prime_generator()` function is a generator function that generates prime numbers. It maintains a list `primes` to keep track of previously found prime numbers. It starts with `num` as 2 and enters an infinite loop.\n",
    "\n",
    "Within each iteration of the loop, it checks whether `num` is divisible by any number in the `primes` list. If it is divisible by any of the previously found primes, it is not a prime number and `is_prime` is set to `False`. If `num` is not divisible by any previously found primes, it is considered a prime number, and `num` is yielded by the generator, added to the `primes` list, and the value of `num` is incremented by 1.\n",
    "\n",
    "Using the `prime_generator()` function, a generator object `prime_gen` is created. Then, a loop is used to iterate 20 times. In each iteration, the `next()` function is called on the `prime_gen` generator object to retrieve the next prime number, which is printed.\n",
    "\n",
    "When executed, the code will print the first 20 prime numbers less than 1000."
   ]
  },
  {
   "attachments": {},
   "cell_type": "markdown",
   "metadata": {},
   "source": [
    "# Q6. Write a python program to print the first 10 Fibonacci numbers using a while loop.\n",
    "\n",
    "\n",
    "\n",
    "```python\n",
    "# Initialize the first two numbers of the Fibonacci sequence\n",
    "a, b = 0, 1\n",
    "\n",
    "# Counter to keep track of the number of Fibonacci numbers printed\n",
    "count = 0\n",
    "\n",
    "# Loop to print the first 10 Fibonacci numbers\n",
    "while count < 10:\n",
    "    print(a)\n",
    "\n",
    "    # Update Fibonacci numbers\n",
    "    a, b = b, a + b\n",
    "\n",
    "    # Increment the counter\n",
    "    count += 1\n",
    "```\n",
    "\n",
    "In this program, we initialize two variables `a` and `b` to represent the first two numbers of the Fibonacci sequence. We also initialize a counter variable `count` to keep track of the number of Fibonacci numbers printed.\n",
    "\n",
    "The `while` loop continues executing until `count` reaches 10. Inside the loop, we print the current Fibonacci number `a`, update the Fibonacci numbers by swapping `a` and `b` and setting `a` to the sum of the previous two numbers, and increment the counter `count`.\n",
    "\n",
    "Executing this program will output the first 10 Fibonacci numbers:\n",
    "\n",
    "```\n",
    "0\n",
    "1\n",
    "1\n",
    "2\n",
    "3\n",
    "5\n",
    "8\n",
    "13\n",
    "21\n",
    "34\n",
    "```\n",
    "\n",
    "Each number is calculated by summing the previous two numbers in the sequence."
   ]
  },
  {
   "cell_type": "code",
   "execution_count": null,
   "metadata": {},
   "outputs": [],
   "source": [
    "a, b = 0, 1\n",
    "\n",
    "# Counter to keep track of the number of Fibonacci numbers printed\n",
    "count = 0\n",
    "\n",
    "# Loop to print the first 10 Fibonacci numbers\n",
    "while count < 10:\n",
    "    print(a)\n",
    "\n",
    "    # Update Fibonacci numbers\n",
    "    a, b = b, a + b\n",
    "\n",
    "    # Increment the counter\n",
    "    count += 1"
   ]
  },
  {
   "attachments": {},
   "cell_type": "markdown",
   "metadata": {},
   "source": [
    "# Q7. Write a List Comprehension to iterate through the given string: ‘pwskills’. Expected output: ['p', 'w', 's', 'k', 'i', 'l', 'l', 's']\n",
    "\n",
    "Certainly! Here's an example of a list comprehension that iterates through the given string 'pwskills' and returns a list of individual characters:\n",
    "\n",
    "```python\n",
    "string = 'pwskills'\n",
    "result = [char for char in string]\n",
    "print(result)\n",
    "```\n",
    "\n",
    "In this example, the list comprehension `[char for char in string]` is used to iterate through each character `char` in the string `string`. For each character, it is added to the resulting list. The resulting list is then printed.\n",
    "\n",
    "When you run this code, it will output:\n",
    "\n",
    "```\n",
    "['p', 'w', 's', 'k', 'i', 'l', 'l', 's']\n",
    "```\n",
    "\n",
    "Each character from the string 'pwskills' is extracted and added to the resulting list using the list comprehension."
   ]
  },
  {
   "attachments": {},
   "cell_type": "markdown",
   "metadata": {},
   "source": [
    "# Q8. Write a python program to check whether a given number is Palindrome or not using a while loop.\n",
    "Certainly! Here's a Python program that checks whether a given number is a palindrome or not using a `while` loop:\n",
    "\n",
    "```python\n",
    "number = int(input(\"Enter a number: \"))\n",
    "temp = number\n",
    "reverse = 0\n",
    "\n",
    "while temp > 0:\n",
    "    remainder = temp % 10\n",
    "    reverse = (reverse * 10) + remainder\n",
    "    temp = temp // 10\n",
    "\n",
    "if number == reverse:\n",
    "    print(f\"The number {number} is a palindrome.\")\n",
    "else:\n",
    "    print(f\"The number {number} is not a palindrome.\")\n",
    "```\n",
    "\n",
    "In this program, the user is prompted to enter a number. The input is stored in the `number` variable. We also initialize a temporary variable `temp` to store a copy of the number and a variable `reverse` to store the reverse of the number.\n",
    "\n",
    "The `while` loop continues executing until `temp` becomes 0. Inside the loop, the remainder of the number divided by 10 is calculated using the modulo operator `%`. This remainder is then added to `reverse` after multiplying it by 10 to shift the digits left. The number is divided by 10 using integer division `//` to remove the last digit.\n",
    "\n",
    "After the `while` loop ends, we compare the original `number` with the `reverse` to check if they are equal. If they are equal, it means the number is a palindrome. Otherwise, it is not a palindrome. The appropriate message is then printed.\n",
    "\n",
    "When you run this program, it will prompt you to enter a number. After entering the number, it will determine whether it is a palindrome or not and provide the corresponding output."
   ]
  },
  {
   "attachments": {},
   "cell_type": "markdown",
   "metadata": {},
   "source": [
    "# Q9. Write a code to print odd numbers from 1 to 100 using list comprehension.\n",
    "\n",
    "Note: Use a list comprehension to create a list from 1 to 100 and use another List comprehension to filter \n",
    "out odd numbers.\n",
    "Certainly! Here's the code that uses a list comprehension to print the odd numbers from 1 to 100:\n",
    "\n",
    "```python\n",
    "odd_numbers = [num for num in range(1, 101) if num % 2 != 0]\n",
    "print(odd_numbers)\n",
    "```\n",
    "\n",
    "In this code, we use the first list comprehension `[num for num in range(1, 101)]` to generate a list of numbers from 1 to 100. \n",
    "\n",
    "Then, we use a second list comprehension `[num for num in range(1, 101) if num % 2 != 0]` to filter out the even numbers from the generated list. The condition `if num % 2 != 0` checks if the number is not divisible by 2, which means it is an odd number.\n",
    "\n",
    "The resulting list, `odd_numbers`, contains all the odd numbers from 1 to 100. Finally, we print the `odd_numbers` list.\n",
    "\n",
    "When you run this code, it will output:\n",
    "\n",
    "```\n",
    "[1, 3, 5, 7, 9, 11, 13, 15, 17, 19, 21, 23, 25, 27, 29, 31, 33, 35, 37, 39, 41, 43, 45, 47, 49, 51, 53, 55, 57, 59, 61, 63, 65, 67, 69, 71, 73, 75, 77, 79, 81, 83, 85, 87, 89, 91, 93, 95, 97, 99]\n",
    "```\n",
    "\n",
    "The resulting list contains all the odd numbers from 1 to 100."
   ]
  },
  {
   "attachments": {},
   "cell_type": "markdown",
   "metadata": {},
   "source": []
  },
  {
   "cell_type": "code",
   "execution_count": null,
   "metadata": {},
   "outputs": [],
   "source": []
  },
  {
   "attachments": {},
   "cell_type": "markdown",
   "metadata": {},
   "source": [
    "###gttgt###"
   ]
  }
 ],
 "metadata": {
  "kernelspec": {
   "display_name": "Python 3",
   "language": "python",
   "name": "python3"
  },
  "language_info": {
   "codemirror_mode": {
    "name": "ipython",
    "version": 3
   },
   "file_extension": ".py",
   "mimetype": "text/x-python",
   "name": "python",
   "nbconvert_exporter": "python",
   "pygments_lexer": "ipython3",
   "version": "3.11.2"
  },
  "orig_nbformat": 4
 },
 "nbformat": 4,
 "nbformat_minor": 2
}
