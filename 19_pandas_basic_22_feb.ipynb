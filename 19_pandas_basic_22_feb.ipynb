{
 "cells": [
  {
   "cell_type": "markdown",
   "metadata": {},
   "source": [
    "### Q1. Create a Pandas Series that contains the following data: 4, 8, 15, 16, 23, and 42. Then, print the series."
   ]
  },
  {
   "cell_type": "code",
   "execution_count": 5,
   "metadata": {},
   "outputs": [
    {
     "name": "stdout",
     "output_type": "stream",
     "text": [
      "0     4\n",
      "1     8\n",
      "2    15\n",
      "3    16\n",
      "4    23\n",
      "5    42\n",
      "dtype: int64\n"
     ]
    }
   ],
   "source": [
    "import pandas as pd\n",
    "l =[ 4, 8, 15, 16, 23, 42]\n",
    "\n",
    "df = pd.Series(l)\n",
    "print (df)\n"
   ]
  },
  {
   "cell_type": "markdown",
   "metadata": {},
   "source": [
    "### Q2. Create a variable of list type containing 10 elements in it, and apply pandas.Series function on the variable print it."
   ]
  },
  {
   "cell_type": "code",
   "execution_count": 6,
   "metadata": {},
   "outputs": [
    {
     "name": "stdout",
     "output_type": "stream",
     "text": [
      "0    1\n",
      "1    2\n",
      "2    3\n",
      "3    4\n",
      "4    5\n",
      "5    6\n",
      "6    7\n",
      "7    8\n",
      "8    9\n",
      "9    1\n",
      "dtype: int64\n"
     ]
    }
   ],
   "source": [
    "import pandas as pd\n",
    "li = [1,2,3,4,5,6,7,8,9,1]\n",
    "mylist = pd.Series(li)\n",
    "print(mylist)"
   ]
  },
  {
   "cell_type": "markdown",
   "metadata": {},
   "source": [
    "### Q3. Create a Pandas DataFrame that contains the following data:"
   ]
  },
  {
   "cell_type": "code",
   "execution_count": 7,
   "metadata": {},
   "outputs": [
    {
     "name": "stdout",
     "output_type": "stream",
     "text": [
      "     Name  Age  Gender\n",
      "0   Alice   25  Female\n",
      "1     Bob   30    Male\n",
      "2  Claire   27  Female\n"
     ]
    }
   ],
   "source": [
    "my_dic = {\n",
    "    \"Name\" : [\"Alice\" , \"Bob\", \"Claire\"],\n",
    "    \"Age\"  : [25     ,30,  27],\n",
    "    \"Gender\" : [\"Female\" ,\"Male\",\"Female\"]\n",
    "}\n",
    "import pandas as pd\n",
    "df = pd.DataFrame(my_dic)\n",
    "print(df)"
   ]
  },
  {
   "cell_type": "markdown",
   "metadata": {},
   "source": [
    "### Q4. What is ‘DataFrame’ in pandas and how is it different from pandas.series? Explain with an example.\n",
    "Ans -> \n",
    " a `DataFrame` is a two-dimensional labeled data structure that is widely used for data manipulation and analysis. It is a tabular data structure with rows and columns, similar to a spreadsheet or a SQL table. The `DataFrame` allows you to store and organize data in a way that facilitates data exploration, analysis, and transformation.\n",
    "\n",
    "On the other hand, a `Series` is a one-dimensional labeled array in Pandas. It is similar to a Python list or NumPy array but has additional functionality and flexibility due to the labeled index associated with each element. A `Series` can be seen as a single column of data within a `DataFrame`.\n",
    "\n",
    "Here's a more detailed explanation with an example:\n",
    "\n",
    "**DataFrame:**\n",
    "\n",
    "A `DataFrame` is a 2-dimensional data structure, resembling a table, where data is stored in rows and columns. Each column can have a different data type (e.g., integers, floats, strings) and can be thought of as a `Series`. You can think of a `DataFrame` as a collection of `Series` aligned by a common index.\n",
    "```python\n",
    "import pandas as pd\n",
    "\n",
    "# Creating a DataFrame\n",
    "data = {\n",
    "    'Name': ['Alice', 'Bob', 'Charlie', 'David'],\n",
    "    'Age': [25, 23, 22, 24],\n",
    "    'Grade': [87, 90, 78, 95]\n",
    "}\n",
    "\n",
    "df = pd.DataFrame(data)\n",
    "\n",
    "print(df)\n",
    "```\n",
    "\n",
    "\n",
    "**Series:**\n",
    "\n",
    "A `Series` is a 1-dimensional data structure, similar to an array or a list. It contains data and an associated index that provides a label for each element. The index helps in accessing and aligning data efficiently.\n",
    "\n",
    "Example of a Series:\n",
    "\n",
    "Suppose we want to create a `Series` containing the ages of students:\n",
    "\n",
    "```python\n",
    "import pandas as pd\n",
    "\n",
    "# Creating a Series\n",
    "ages = pd.Series([25, 23, 22, 24], name='Age')\n",
    "\n",
    "print(ages)\n",
    "```\n",
    "\n",
    "Output:\n",
    "\n",
    "\n",
    "**Difference between DataFrame and Series:**\n",
    "\n",
    "1. Dimensions:\n",
    "   - DataFrame: 2-dimensional, represents tabular data with rows and columns.\n",
    "   - Series: 1-dimensional, represents a single column with labeled data.\n",
    "\n",
    "2. Data Structure:\n",
    "   - DataFrame is a collection of Series. Each column in a DataFrame is a Series.\n",
    "   - Series is a single column of data.\n",
    "\n",
    "3. Accessing Data:\n",
    "   - DataFrame allows accessing data by specifying both row and column labels.\n",
    "   - Series allows accessing data using only the index (row label).\n",
    "\n",
    "4. Shape:\n",
    "   - DataFrame has a shape attribute, such as `(n_rows, n_columns)`.\n",
    "   - Series has a shape attribute of `(n_elements,)`.\n",
    "\n",
    "In summary, while a `Series` represents a single column with labeled data, a `DataFrame` is a collection of Series organized in a tabular format, with each column representing a variable and each row representing an observation. The DataFrame is a more powerful and versatile data structure, commonly used for data manipulation, analysis, and data cleaning tasks."
   ]
  },
  {
   "cell_type": "markdown",
   "metadata": {},
   "source": [
    "### Q5. What are some common functions you can use to manipulate data in a Pandas DataFrame? Can you give an example of when you might use one of these functions?\n",
    "ans -> \n",
    "some common functions to manipulate data in a Pandas DataFrame are:\n",
    "\n",
    "1. `head()` and `tail()`: To view the first or last few rows of the DataFrame.\n",
    "2. `info()`: To get a concise summary of the DataFrame's structure and data types.\n",
    "3. `describe()`: To generate descriptive statistics for the numeric columns.\n",
    "4. `sort_values()`: To sort the DataFrame based on one or more columns.\n",
    "5. `groupby()`: To group the data based on specific columns and perform aggregate functions.\n",
    "6. `apply()`: To apply custom functions to each element or row of the DataFrame for transformations.\n",
    "\n"
   ]
  },
  {
   "cell_type": "code",
   "execution_count": null,
   "metadata": {},
   "outputs": [],
   "source": [
    "import pandas as pd\n",
    "\n",
    "# Creating a sample DataFrame\n",
    "data = {\n",
    "    'Name': ['Alice', 'Bob', 'Charlie', 'David', 'Eva'],\n",
    "    'Age': [25, 23, 22, 24, 26],\n",
    "    'Grade': [87, 90, 78, 95, 82]\n",
    "}\n",
    "\n",
    "df = pd.DataFrame(data)\n",
    "\n",
    "# Displaying the first two rows\n",
    "print(\"First two rows:\")\n",
    "print(df.head(2))\n",
    "\n",
    "# Displaying the last three rows\n",
    "print(\"\\nLast three rows:\")\n",
    "print(df.tail(3))\n",
    "\n",
    "# Getting information about the DataFrame\n",
    "print(\"\\nDataFrame Info:\")\n",
    "print(df.info())\n",
    "\n",
    "# Descriptive statistics for the numeric columns\n",
    "print(\"\\nDescriptive Statistics:\")\n",
    "print(df.describe())\n",
    "\n",
    "# Sorting the DataFrame by the 'Grade' column in descending order\n",
    "sorted_df = df.sort_values(by='Grade', ascending=False)\n",
    "print(\"\\nSorted DataFrame:\")\n",
    "print(sorted_df)\n",
    "\n",
    "# Grouping the data by the 'Age' column and calculating the average grade for each age group\n",
    "grouped_df = df.groupby('Age')['Grade'].mean()\n",
    "print(\"\\nGrouped DataFrame:\")\n",
    "print(grouped_df)\n",
    "\n",
    "# Defining a function to convert grades to letter grades\n",
    "def convert_to_letter(grade):\n",
    "    if grade >= 90:\n",
    "        return 'A'\n",
    "    elif grade >= 80:\n",
    "        return 'B'\n",
    "    elif grade >= 70:\n",
    "        return 'C'\n",
    "    else:\n",
    "        return 'F'\n",
    "\n",
    "# Applying the function to the 'Grade' column and creating a new column 'LetterGrade'\n",
    "df['LetterGrade'] = df['Grade'].apply(convert_to_letter)\n",
    "print(\"\\nDataFrame with Letter Grades:\")\n",
    "print(df)\n"
   ]
  },
  {
   "cell_type": "markdown",
   "metadata": {},
   "source": [
    "### Q6. Which of the following is mutable in nature Series, DataFrame, Panel?\n",
    "\n",
    "Ans-> both Series and DataFrame are mutable in nature, meaning you can modify their contents after creation. On the other hand, Panel is not mutable; it is an immutable data structure."
   ]
  },
  {
   "cell_type": "markdown",
   "metadata": {},
   "source": [
    "### Q7. Create a DataFrame using multiple Series. Explain with an example."
   ]
  },
  {
   "cell_type": "code",
   "execution_count": 9,
   "metadata": {},
   "outputs": [
    {
     "data": {
      "text/html": [
       "<div>\n",
       "<style scoped>\n",
       "    .dataframe tbody tr th:only-of-type {\n",
       "        vertical-align: middle;\n",
       "    }\n",
       "\n",
       "    .dataframe tbody tr th {\n",
       "        vertical-align: top;\n",
       "    }\n",
       "\n",
       "    .dataframe thead th {\n",
       "        text-align: right;\n",
       "    }\n",
       "</style>\n",
       "<table border=\"1\" class=\"dataframe\">\n",
       "  <thead>\n",
       "    <tr style=\"text-align: right;\">\n",
       "      <th></th>\n",
       "      <th>Name</th>\n",
       "      <th>Age</th>\n",
       "      <th>Grades</th>\n",
       "    </tr>\n",
       "  </thead>\n",
       "  <tbody>\n",
       "    <tr>\n",
       "      <th>0</th>\n",
       "      <td>BOB</td>\n",
       "      <td>20</td>\n",
       "      <td>50</td>\n",
       "    </tr>\n",
       "    <tr>\n",
       "      <th>1</th>\n",
       "      <td>jane</td>\n",
       "      <td>31</td>\n",
       "      <td>33</td>\n",
       "    </tr>\n",
       "  </tbody>\n",
       "</table>\n",
       "</div>"
      ],
      "text/plain": [
       "   Name  Age  Grades\n",
       "0   BOB   20      50\n",
       "1  jane   31      33"
      ]
     },
     "execution_count": 9,
     "metadata": {},
     "output_type": "execute_result"
    }
   ],
   "source": [
    "import pandas as pd \n",
    "names = pd.Series([\"BOB\" , \"jane\"])\n",
    "age = pd.Series([20,31])\n",
    "grades = pd.Series([50,33])\n",
    "\n",
    "data = {\n",
    "    \"Name\" : names,\n",
    "    \"Age\": age,\n",
    "    \"Grades\": grades\n",
    "}\n",
    "df = pd.DataFrame(data)\n",
    "df"
   ]
  }
 ],
 "metadata": {
  "kernelspec": {
   "display_name": "Python 3",
   "language": "python",
   "name": "python3"
  },
  "language_info": {
   "codemirror_mode": {
    "name": "ipython",
    "version": 3
   },
   "file_extension": ".py",
   "mimetype": "text/x-python",
   "name": "python",
   "nbconvert_exporter": "python",
   "pygments_lexer": "ipython3",
   "version": "3.10.2"
  },
  "orig_nbformat": 4
 },
 "nbformat": 4,
 "nbformat_minor": 2
}
