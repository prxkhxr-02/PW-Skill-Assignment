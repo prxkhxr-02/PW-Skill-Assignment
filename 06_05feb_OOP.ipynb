{
 "cells": [
  {
   "attachments": {},
   "cell_type": "markdown",
   "metadata": {},
   "source": [
    "### Q1. Explain Class and Object with respect to Object-Oriented Programming. Give a suitable example\n",
    "Ans -> In oop the class is the blue print of object \n",
    "and the object is instance of  the class \n",
    "class defines the particular type "
   ]
  },
  {
   "cell_type": "code",
   "execution_count": 1,
   "metadata": {},
   "outputs": [
    {
     "name": "stdout",
     "output_type": "stream",
     "text": [
      "This is humas animal and the agge of the animals is 39\n"
     ]
    }
   ],
   "source": [
    "class animals :\n",
    "    age = 0\n",
    "    def __init__(self, type) :\n",
    "        self.__type = type \n",
    "        self.age = 39\n",
    "    def display (self):\n",
    "        \"\"\"This is the function for the display the type and age\"\"\"\n",
    "        print (f\"\"\"This is {self.__type} animal and the agge of the animals is {self.age}\"\"\")\n",
    "\n",
    "a1 =animals(\"humas\")\n",
    "a1.display()"
   ]
  },
  {
   "attachments": {},
   "cell_type": "markdown",
   "metadata": {},
   "source": [
    "### Q2. Name the four pillars of OOPs\n",
    "The four pillars of object-oriented programming (OOP) are:\n",
    "\n",
    "1. Encapsulation:  bundling data and methods that operate on that data into a single unit, known as a class. It hides the internal details and implementation of an object from the outside world and provides access to the object's behavior through well-defined interfaces.\n",
    "\n",
    "2. Inheritance: Inheritance allows the creation of new classes based on existing classes. It enables code reuse and the creation of a hierarchical relationship between classes. A derived class (subclass) can inherit the attributes and methods of a base class (superclass) and can also add its own unique characteristics.\n",
    "\n",
    "3. Polymorphism: Polymorphism means the ability of an object to take on many forms. It allows objects of different classes to be treated as objects of a common superclass. Polymorphism enables methods to be defined in the superclass and overridden in the subclasses, allowing different implementations based on the specific objects being used.\n",
    "\n",
    "4. Abstraction: Abstraction involves the concept of simplifying complex systems by providing only essential details and hiding unnecessary complexity. It allows the creation of abstract classes and interfaces that define the common behavior and attributes for a group of related objects. Abstraction helps in managing complexity and building modular, reusable code.\n",
    "\n"
   ]
  },
  {
   "attachments": {},
   "cell_type": "markdown",
   "metadata": {},
   "source": [
    "### Q3. Explain why the __init__() function is used. Give a suitable example\n",
    "ans -> It is spicial method of the class which get call as soon as the class is created is i\n",
    "\n",
    "The `__init__()` function is a special method in Python classes that is automatically called when an object of the class is created. It is used to initialize the attributes or properties of an object and perform any necessary setup or configuration.\n",
    "\n",
    "The primary purpose of the `__init__()` method is to ensure that the object is in a valid and usable state after its creation. It allows you to define default values for attributes, accept arguments to initialize specific attributes, and perform any other initialization tasks required for the object to function correctly.\n",
    "\n",
    "Here's an example to illustrate the usage of the `__init__()` method:\n",
    "\n",
    "```python\n",
    "class Person:\n",
    "    def __init__(self, name, age):\n",
    "        self.name = name\n",
    "        self.age = age\n",
    "\n",
    "    def introduce(self):\n",
    "        print(f\"Hello, my name is {self.name} and I am {self.age} years old.\")\n",
    "\n",
    "# Creating an instance of the Person class\n",
    "person1 = Person(\"Alice\", 25)\n",
    "\n",
    "# Accessing attributes and calling methods\n",
    "print(person1.name)  # Output: Alice\n",
    "print(person1.age)  # Output: 25\n",
    "person1.introduce()  # Output: Hello, my name is Alice and I am 25 years old.\n",
    "```\n",
    "\n",
    "In the above code, we define a `Person` class with an `__init__()` method. The `__init__()` method takes two parameters, `name` and `age`, which are used to initialize the `name` and `age` attributes of the object.\n",
    "\n",
    "When we create an instance of the `Person` class (`person1`), we pass the values `\"Alice\"` and `25` as arguments. The `__init__()` method is automatically called, and the `name` and `age` attributes of `person1` are set accordingly.\n",
    "\n",
    "After the object is initialized, we can access the attributes (`name` and `age`) using dot notation (`person1.name`, `person1.age`). We can also call the `introduce()` method on the `person1` object to introduce themselves.\n",
    "\n",
    "The `__init__()` method is crucial for ensuring that objects are properly initialized and ready to be used. It helps to establish the initial state of an object and set up any necessary attributes or configurations."
   ]
  },
  {
   "attachments": {},
   "cell_type": "markdown",
   "metadata": {},
   "source": [
    "### Q4. Why self is used in OOPs?\n",
    "In object-oriented programming (OOP), `self` is used as a convention to refer to the instance of a class within its methods. It acts as a reference to the current object or instance on which a method is being invoked.\n",
    "\n",
    "The `self` parameter is the first parameter of instance methods in Python classes. By convention, it is named `self`, but you can choose any name for it (although sticking to the convention is recommended).\n",
    "\n",
    "Here are a few reasons why `self` is used in OOP:\n",
    "\n",
    "1. Accessing Instance Attributes: Within a class method, `self` allows you to access the instance attributes (properties) of the object. It provides a way to refer to the specific instance on which the method is called, enabling access to the instance's data.\n",
    "\n",
    "2. Calling Other Instance Methods: `self` is used to call other instance methods within a class. It allows one method to invoke another method on the same instance, facilitating code organization and reusability.\n",
    "\n",
    "3. Differentiating Instance and Local Variables: `self` helps distinguish between instance variables (attributes) and local variables within a method. By using `self`, you can explicitly reference the instance variables and prevent them from being mistaken for local variables.\n",
    "\n",
    "4. Implicitly Passed During Method Invocation: When you call an instance method on an object, Python implicitly passes the instance itself as the first argument, which is captured by `self`. This allows the method to operate on the specific instance and its attributes.\n",
    "\n",
    "Here's a simple example to demonstrate the usage of `self`:\n",
    "\n",
    "```python\n",
    "class Person:\n",
    "    def __init__(self, name):\n",
    "        self.name = name\n",
    "\n",
    "    def greet(self):\n",
    "        print(f\"Hello, my name is {self.name}.\")\n",
    "\n",
    "# Creating an instance of the Person class\n",
    "person1 = Person(\"Alice\")\n",
    "\n",
    "# Calling the greet() method on the person1 object\n",
    "person1.greet()  # Output: Hello, my name is Alice.\n",
    "```\n",
    "\n",
    "In the above code, `self` is used in the `__init__()` method to refer to the instance being created (`person1`). It allows us to assign the provided `name` argument to the `name` attribute of the instance.\n",
    "\n",
    "Later, `self` is used again in the `greet()` method to access the `name` attribute of the instance (`self.name`) and print a greeting message.\n",
    "\n",
    "By using `self`, you can work with the specific instance and its attributes within the methods of a class, enabling the encapsulation of data and behavior within objects in an object-oriented program."
   ]
  },
  {
   "attachments": {},
   "cell_type": "markdown",
   "metadata": {},
   "source": [
    "### Q5. What is inheritance? Give an example for each type of inheritance.\n",
    "In object-oriented programming, inheritance is a mechanism that allows a class to inherit properties and behaviors from another class, known as the base or parent class. The class that inherits these properties and behaviors is called the derived or child class. Inheritance promotes code reusability and establishes a hierarchical relationship between classes.\n",
    "\n",
    "There are several types of inheritance:\n",
    "\n",
    "1. Single Inheritance: In single inheritance, a derived class inherits properties and behaviors from a single base class.\n",
    "\n",
    "Example: Consider a class hierarchy involving animals. The base class could be \"Animal,\" and a derived class could be \"Dog.\" The Dog class inherits characteristics such as \"name\" and \"age\" from the Animal class.\n",
    "\n",
    "2. Multiple Inheritance: Multiple inheritance occurs when a derived class inherits from more than one base class. This means the derived class incorporates properties and behaviors from multiple classes.\n",
    "\n",
    "Example: Let's say we have two base classes, \"Car\" and \"Radio.\" The derived class \"CarRadio\" can inherit properties from both classes, such as \"color\" and \"brand\" from Car, and \"frequency\" and \"volume\" from Radio.\n",
    "\n",
    "3. Multilevel Inheritance: Multilevel inheritance involves a chain of inheritance, where a derived class serves as the base class for another derived class. In this way, properties and behaviors can be inherited through multiple levels.\n",
    "\n",
    "Example: Suppose we have a base class called \"Shape,\" a derived class called \"Rectangle\" that inherits from Shape, and another derived class called \"Square\" that inherits from Rectangle. Square indirectly inherits properties and behaviors from Shape through the intermediate class, Rectangle.\n",
    "\n",
    "4. Hierarchical Inheritance: Hierarchical inheritance occurs when multiple derived classes inherit from a single base class. Each derived class inherits the properties and behaviors of the base class, creating a hierarchy of classes.\n",
    "\n",
    "Example: Consider a base class called \"Vehicle\" and two derived classes, \"Car\" and \"Motorcycle.\" Both Car and Motorcycle inherit properties like \"speed\" and \"fuel type\" from Vehicle.\n",
    "\n",
    "5. Hybrid Inheritance: Hybrid inheritance is a combination of multiple inheritance and hierarchical inheritance. It involves a mix of inheritance types, allowing classes to inherit properties and behaviors from multiple base classes in a hierarchical structure.\n",
    "\n",
    "Example: Suppose we have a base class called \"Animal\" and two derived classes, \"Mammal\" and \"Bird.\" Both Mammal and Bird inherit properties from Animal. Additionally, we have another class called \"FlyingBird\" that inherits from both Bird and Animal, demonstrating multiple inheritance.\n",
    "\n",
    "These examples illustrate different types of inheritance and how classes can inherit properties and behaviors from their parent classes based on the inheritance relationship."
   ]
  },
  {
   "attachments": {},
   "cell_type": "markdown",
   "metadata": {},
   "source": []
  }
 ],
 "metadata": {
  "kernelspec": {
   "display_name": "Python 3",
   "language": "python",
   "name": "python3"
  },
  "language_info": {
   "codemirror_mode": {
    "name": "ipython",
    "version": 3
   },
   "file_extension": ".py",
   "mimetype": "text/x-python",
   "name": "python",
   "nbconvert_exporter": "python",
   "pygments_lexer": "ipython3",
   "version": "3.10.2"
  },
  "orig_nbformat": 4
 },
 "nbformat": 4,
 "nbformat_minor": 2
}
