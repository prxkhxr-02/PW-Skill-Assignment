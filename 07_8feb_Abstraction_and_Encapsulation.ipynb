{
 "cells": [
  {
   "attachments": {},
   "cell_type": "markdown",
   "metadata": {},
   "source": [
    "### Q1. What is Abstraction in OOps? Explain with an example.\n",
    "Ans -> it provide the simplyifed and essential representation of complex systems it involues the  hiding the unnessery data "
   ]
  },
  {
   "cell_type": "code",
   "execution_count": 6,
   "metadata": {},
   "outputs": [
    {
     "name": "stdout",
     "output_type": "stream",
     "text": [
      "Drawing a circle\n",
      "Drawing a rectangle\n"
     ]
    }
   ],
   "source": [
    "from abc import ABC, abstractmethod\n",
    "\n",
    "class Shape(ABC):\n",
    "    @abstractmethod\n",
    "    def draw(self):\n",
    "        pass\n",
    "\n",
    "class Circle(Shape):\n",
    "    def draw(self):\n",
    "        print(\"Drawing a circle\")\n",
    "\n",
    "class Rectangle(Shape):\n",
    "    def draw(self):\n",
    "        print(\"Drawing a rectangle\")\n",
    "\n",
    "shapes = [Circle(), Rectangle()]\n",
    "\n",
    "for shape in shapes:\n",
    "    shape.draw()\n"
   ]
  },
  {
   "attachments": {},
   "cell_type": "markdown",
   "metadata": {},
   "source": [
    "### Q2. Differentiate between Abstraction and Encapsulation. Explain with an example.\n",
    "Abstraction and encapsulation are two fundamental concepts in object-oriented programming, but they serve different purposes.\n",
    "\n",
    "1. Abstraction:\n",
    "   Abstraction focuses on providing a simplified and essential representation of complex systems by hiding unnecessary details and exposing only relevant information. It allows you to create abstract classes or interfaces that define a blueprint for the derived classes to implement. Abstraction emphasizes \"what\" an object does rather than \"how\" it does it.\n",
    "\n",
    "   Example:\n",
    "   Let's consider the concept of a \"Vehicle\" in a transportation system. The Vehicle class can be an abstract class that defines common properties and behaviors of vehicles, such as \"start_engine()\", \"stop_engine()\", and \"move()\". These methods represent the essential actions that any vehicle can perform. The Vehicle class serves as an abstraction of a generic vehicle, without specifying the implementation details of individual vehicle types like cars, bicycles, or airplanes.\n",
    "\n",
    "2. Encapsulation:\n",
    "   Encapsulation refers to the bundling of data and methods into a single unit, known as a class. It hides the internal workings and state of an object from external access, and provides controlled access through methods or properties. Encapsulation helps in achieving data abstraction, data integrity, and modularity.\n",
    "\n",
    "   Example:\n",
    "   Consider a class called \"BankAccount\" that represents a customer's bank account. The BankAccount class can have private data members like \"account_number\" and \"balance\". It also includes methods like \"deposit()\" and \"withdraw()\" to modify the balance. These data members are encapsulated within the class, and external code cannot directly access or modify them. Instead, they can interact with the account using the provided methods, ensuring that the account's data is accessed and modified in a controlled manner.\n",
    "\n",
    "Difference between Abstraction and Encapsulation:\n",
    "- Abstraction is concerned with creating a simplified view of a complex system, focusing on what an object does, while encapsulation is concerned with bundling data and methods together, hiding the internal details of an object.\n",
    "- Abstraction involves defining abstract classes or interfaces that provide a blueprint for derived classes to implement, whereas encapsulation involves wrapping data and methods into a single unit (class) and controlling access to them.\n",
    "- Abstraction is about defining a higher level of abstraction and working with objects based on their essential behaviors, while encapsulation provides data protection and ensures that the internal state of an object remains consistent and controlled.\n",
    "\n",
    "In summary, abstraction provides a simplified view of a complex system, focusing on essential behaviors, while encapsulation bundles data and methods into a class, hiding internal details and providing controlled access to the object's state and behavior. Both concepts contribute to building well-structured and maintainable object-oriented programs."
   ]
  },
  {
   "attachments": {},
   "cell_type": "markdown",
   "metadata": {},
   "source": [
    "### Q3. What is abc module in python? Why is it used?\n",
    "\n",
    "Ans -> ABC Stand for the \"Abstract Base Classes.\"\n",
    "it provide the mechanism for defining abstract base classees in python\n",
    "it is classes that cannot be instantiated and serve as blueprint for other classes \n",
    "\n",
    "-------------------------------------------\n",
    "The abc module is used for creating abstract base classes and enforcing a certain interface or a set of methods that derived classes must implement. It allows you to define abstract methods, which are methods without any implementation, and abstract properties that must be implemented by the derived classes. Any class that inherits from an abstract base class is required to implement all the abstract methods defined in the base class.\n",
    "\n",
    "The main purpose of using abstract base classes is to provide a common interface and ensure a certain level of consistency and structure across multiple classes. They help in establishing a contract between the base class and its derived classes, specifying the methods and properties that must be implemented.\n",
    "\n",
    "The abc module provides the ABC class, which is a metaclass for defining abstract base classes, and the abstractmethod decorator for marking methods as abstract. By inheriting from ABC and using the abstractmethod decorator, you can define abstract methods in your abstract base class.\n",
    "\n",
    "Here's a simple example that demonstrates the usage of the abc module:"
   ]
  },
  {
   "cell_type": "code",
   "execution_count": 7,
   "metadata": {},
   "outputs": [
    {
     "name": "stdout",
     "output_type": "stream",
     "text": [
      "78.5\n",
      "24\n"
     ]
    }
   ],
   "source": [
    "from abc import ABC, abstractmethod\n",
    "\n",
    "class Shape(ABC):\n",
    "    @abstractmethod\n",
    "    def area(self):\n",
    "        pass\n",
    "\n",
    "class Circle(Shape):\n",
    "    def __init__(self, radius):\n",
    "        self.radius = radius\n",
    "\n",
    "    def area(self):\n",
    "        return 3.14 * self.radius * self.radius\n",
    "\n",
    "class Rectangle(Shape):\n",
    "    def __init__(self, length, width):\n",
    "        self.length = length\n",
    "        self.width = width\n",
    "\n",
    "    def area(self):\n",
    "        return self.length * self.width\n",
    "\n",
    "# Attempting to instantiate the abstract base class will raise an error\n",
    "# shape = Shape()  # This will raise a TypeError\n",
    "\n",
    "circle = Circle(5)\n",
    "print(circle.area())  # Output: 78.5\n",
    "\n",
    "rectangle = Rectangle(4, 6)\n",
    "print(rectangle.area())  # Output: 24\n"
   ]
  },
  {
   "attachments": {},
   "cell_type": "markdown",
   "metadata": {},
   "source": [
    "### Q4. How can we achieve data abstraction?\n",
    "\n",
    "Data abstraction in programming refers to the concept of hiding the internal details or implementation of data structures and providing only essential information and operations to the users. It allows users to interact with the data using a simplified and well-defined interface, without needing to know the underlying complexities.\n",
    "\n",
    "In object-oriented programming, data abstraction can be achieved through the following techniques:\n",
    "\n",
    "1. Encapsulation: Encapsulation is the process of bundling data and methods that operate on that data into a single unit, known as a class. By encapsulating the data within a class, you can control access to it and ensure that it is accessed and modified through well-defined methods or properties. This way, the internal representation of data remains hidden, providing an abstraction to the users.\n",
    "\n",
    "2. Access Modifiers: Access modifiers like public, private, and protected can be used to control the visibility and accessibility of data members and methods in a class. By making certain data members private, you restrict direct access to them from outside the class. Instead, you provide public methods or properties to interact with and manipulate the data, allowing you to enforce abstraction and maintain data integrity.\n",
    "\n",
    "3. Getter and Setter Methods: Getter and setter methods, also known as accessors and mutators, respectively, can be used to retrieve and modify the values of private data members. By providing controlled access to the data through these methods, you can enforce abstraction and define the rules and constraints for accessing and modifying the data.\n",
    "\n",
    "4. Abstract Classes and Interfaces: Abstract classes and interfaces provide a higher level of abstraction by defining a common interface or blueprint for derived classes. They allow you to specify a set of methods that derived classes must implement, without providing any concrete implementation in the abstract class or interface itself. This allows you to work with objects based on their common interface, without worrying about the specific details of their implementation.\n",
    "\n",
    "By utilizing these techniques, you can achieve data abstraction in your programs. It helps in managing complexity, promoting modularity, and providing a simplified and well-defined way to interact with the data, shielding the users from unnecessary implementation details."
   ]
  },
  {
   "attachments": {},
   "cell_type": "markdown",
   "metadata": {},
   "source": [
    "### Q5. Can we create an instance of an abstract class? Explain your answer.\n",
    "No, we cannot create an instance of an abstract class in Python. Abstract classes are designed to serve as blueprints or templates for other classes to inherit from, and they cannot be instantiated directly.\n",
    "\n",
    "Attempting to create an instance of an abstract class will result in a `TypeError` being raised. This is because abstract classes typically contain one or more abstract methods, which are methods without any implementation. These methods must be overridden and implemented in the derived classes.\n",
    "\n",
    "The purpose of abstract classes is to define a common interface and provide a structure for derived classes to follow. They encapsulate common behaviors and attributes that are shared among multiple related classes. By defining abstract methods, the abstract class ensures that all derived classes implement those methods, enforcing a certain contract or behavior.\n",
    "\n",
    "To use an abstract class, you need to create a derived class that inherits from the abstract class and provides implementations for all the abstract methods. This derived class can then be instantiated and used.\n",
    "\n",
    "Here's an example to illustrate the concept:\n",
    "\n",
    "```python\n",
    "from abc import ABC, abstractmethod\n",
    "\n",
    "class AbstractClass(ABC):\n",
    "    @abstractmethod\n",
    "    def abstract_method(self):\n",
    "        pass\n",
    "\n",
    "class ConcreteClass(AbstractClass):\n",
    "    def abstract_method(self):\n",
    "        print(\"Implementation of abstract_method\")\n",
    "\n",
    "# Attempting to create an instance of the abstract class will raise a TypeError\n",
    "# abstract_obj = AbstractClass()  # This will raise a TypeError\n",
    "\n",
    "concrete_obj = ConcreteClass()\n",
    "concrete_obj.abstract_method()  # Output: \"Implementation of abstract_method\"\n",
    "```\n",
    "\n",
    "In this example, `AbstractClass` is an abstract class with an abstract method `abstract_method()`. The `ConcreteClass` inherits from `AbstractClass` and provides an implementation for the abstract method. An instance of `ConcreteClass` can be created and used to call the overridden `abstract_method()`.\n",
    "\n",
    "In summary, abstract classes cannot be instantiated directly, as they are intended to be inherited from and serve as a blueprint for derived classes. The derived classes must implement all the abstract methods defined in the abstract class, and it is these derived classes that can be instantiated and used in the program."
   ]
  }
 ],
 "metadata": {
  "kernelspec": {
   "display_name": "Python 3",
   "language": "python",
   "name": "python3"
  },
  "language_info": {
   "codemirror_mode": {
    "name": "ipython",
    "version": 3
   },
   "file_extension": ".py",
   "mimetype": "text/x-python",
   "name": "python",
   "nbconvert_exporter": "python",
   "pygments_lexer": "ipython3",
   "version": "3.11.2"
  },
  "orig_nbformat": 4
 },
 "nbformat": 4,
 "nbformat_minor": 2
}
