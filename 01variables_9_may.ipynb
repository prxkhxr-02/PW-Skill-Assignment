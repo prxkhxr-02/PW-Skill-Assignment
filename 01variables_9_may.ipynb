{
 "cells": [
  {
   "attachments": {},
   "cell_type": "markdown",
   "metadata": {},
   "source": [
    "# Q1. Create one variable containing following type of data:\n",
    "(i)\tstring\n",
    "(ii)\tlist\n",
    "(iii)\tfloat\n",
    "(iv)\ttuple"
   ]
  },
  {
   "cell_type": "code",
   "execution_count": 6,
   "metadata": {},
   "outputs": [],
   "source": [
    "str = \"ombade\"\n",
    "li = [1,34,2,\"sdsd\",[3,4,2]]\n",
    "fl = 1.2\n",
    "tup = (2,3,42)"
   ]
  },
  {
   "attachments": {},
   "cell_type": "markdown",
   "metadata": {},
   "source": [
    "# Q2. Given are some following variables containing data:\n",
    "\n",
    "(i)\tvar1 = ‘ ‘\n",
    "(ii)\tvar2 = ‘[ DS , ML , Python]’\n",
    "(iii)\tvar3 = [ ‘DS’ , ’ML’ , ‘Python’ ]\n",
    "(iv)\tvar4 = 1.\n",
    "What will be the data type of the above given variable\n",
    "ans =\n",
    "1)char\n",
    "2)string\n",
    "3)list\n",
    "4)float\n"
   ]
  },
  {
   "attachments": {},
   "cell_type": "markdown",
   "metadata": {},
   "source": [
    "# Q3. Explain the use of the following operators using an example:\n",
    "(i)\t/\n",
    "(ii)\t% \n",
    "(iii)\t//\n",
    "(iv)\t**\n",
    "Ans : (i)/(ii)/ and // are used for division, whereas ** is used to raise a number to power n times."
   ]
  },
  {
   "attachments": {},
   "cell_type": "markdown",
   "metadata": {},
   "source": [
    "# Q4. Create a list of length 10 of your choice containing multiple types of data. Using for loop print the \n",
    "element and its data type."
   ]
  },
  {
   "cell_type": "code",
   "execution_count": 7,
   "metadata": {},
   "outputs": [
    {
     "name": "stdout",
     "output_type": "stream",
     "text": [
      "1\n",
      "2\n",
      "3\n",
      "s\n",
      "eer\n",
      "[1, 33]\n"
     ]
    }
   ],
   "source": [
    "li = [1,2,3,'s',\"eer\",[1,33,]]\n",
    "for i in range(len(li)):\n",
    "    print(li[i])"
   ]
  },
  {
   "attachments": {},
   "cell_type": "markdown",
   "metadata": {},
   "source": [
    "# Q5  Using a while loop, verify if the number A is purely divisible by number B and if so then how many \n",
    "times it can be divisible."
   ]
  },
  {
   "cell_type": "code",
   "execution_count": 8,
   "metadata": {},
   "outputs": [
    {
     "name": "stdout",
     "output_type": "stream",
     "text": [
      "Number of divisions: 2\n"
     ]
    }
   ],
   "source": [
    "A = 36  # The number A\n",
    "B = 6   # The number B\n",
    "\n",
    "divisions = 0  # Variable to store the number of divisions\n",
    "\n",
    "while A % B == 0:\n",
    "    A = A // B  # Divide A by B using integer division\n",
    "    divisions += 1  # Increment the divisions counter\n",
    "\n",
    "print(\"Number of divisions:\", divisions)\n"
   ]
  },
  {
   "attachments": {},
   "cell_type": "markdown",
   "metadata": {},
   "source": [
    "# Q6. Create a list containing 25 int type data. Using for loop and if-else condition print if the element is divisible by 3 or not."
   ]
  },
  {
   "cell_type": "code",
   "execution_count": 9,
   "metadata": {},
   "outputs": [
    {
     "name": "stdout",
     "output_type": "stream",
     "text": [
      "0\n",
      "3\n",
      "6\n",
      "9\n",
      "12\n",
      "15\n",
      "18\n",
      "21\n"
     ]
    }
   ],
   "source": [
    "li = []\n",
    "for i in range(0,24):\n",
    "    li.append([i])\n",
    "    if(i%3 == 0):\n",
    "        print(i)\n",
    "\n"
   ]
  },
  {
   "attachments": {},
   "cell_type": "markdown",
   "metadata": {},
   "source": [
    "# Q7. What do you understand about mutable and immutable data types? Give examples for both showing this property.\n",
    "Ans ->  The mutable data type are those data which can be which can be change or modify or deleted on declaretion \n",
    "for example list , int , char\n",
    "The unmutable data type are those data which can not  be which can be change or modify or deleted on declaretion \n",
    "for example tuple , string \n"
   ]
  },
  {
   "cell_type": "code",
   "execution_count": 10,
   "metadata": {},
   "outputs": [
    {
     "name": "stdout",
     "output_type": "stream",
     "text": [
      "2\n"
     ]
    }
   ],
   "source": [
    "a = 36\n",
    "b = 6\n",
    "div = 0\n",
    "while a%b ==0:\n",
    "    a = a//b \n",
    "    div +=1\n",
    "print(div)"
   ]
  }
 ],
 "metadata": {
  "kernelspec": {
   "display_name": "Python 3",
   "language": "python",
   "name": "python3"
  },
  "language_info": {
   "codemirror_mode": {
    "name": "ipython",
    "version": 3
   },
   "file_extension": ".py",
   "mimetype": "text/x-python",
   "name": "python",
   "nbconvert_exporter": "python",
   "pygments_lexer": "ipython3",
   "version": "3.11.2"
  },
  "orig_nbformat": 4
 },
 "nbformat": 4,
 "nbformat_minor": 2
}
