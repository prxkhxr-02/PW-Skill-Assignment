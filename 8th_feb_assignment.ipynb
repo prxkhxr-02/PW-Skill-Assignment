{
  "nbformat": 4,
  "nbformat_minor": 0,
  "metadata": {
    "colab": {
      "provenance": []
    },
    "kernelspec": {
      "name": "python3",
      "display_name": "Python 3"
    },
    "language_info": {
      "name": "python"
    }
  },
  "cells": [
    {
      "cell_type": "code",
      "execution_count": null,
      "metadata": {
        "id": "ud1ITHOu0I3U"
      },
      "outputs": [],
      "source": []
    },
    {
      "cell_type": "markdown",
      "source": [
        "Q1. What is Abstraction in OOps? Explain with an example.\n",
        "\n",
        "Abstraction in OOP is a fundamental principle that focuses on hiding the internal implementation details of an object and exposing only the essential functionalities to the user. It allows us to create simplified models of real-world entities for easier interaction.\n",
        "\n",
        "Example: Consider a car. As a driver, you only need to know how to operate the steering wheel, pedals, and other controls to drive. You don't need to understand the complex mechanics of the engine, transmission, or braking system. The car itself abstracts these internal details, presenting you with a simplified interface for driving.\n",
        "\n",
        "Benefits of Abstraction:\n",
        "\n",
        "Improved code maintainability and readability: By hiding complexity, we can focus on the core functionality of each object.\n",
        "Increased code reusability: Abstracted functionalities can be reused in different parts of the program or even across projects.\n",
        "Enhanced security: Sensitive implementation details can be hidden from unauthorized access.\n",
        "\n",
        "\n",
        "Q2. Differentiate between Abstraction and Encapsulation. Explain with an example.\n",
        "\n",
        "Abstraction and encapsulation are closely related concepts in OOP, but they have distinct roles:\n",
        "\n",
        "Abstraction: Focuses on what an object does and the interface it provides, hiding the implementation details.\n",
        "Encapsulation: Focuses on protecting an object's data and methods by restricting direct access and providing controlled access mechanisms (like access modifiers).\n",
        "Example:\n",
        "\n",
        "Imagine a Bank class. Abstraction defines how users interact with the bank through functions like deposit, withdraw, and check_balance. Encapsulation ensures these functions have proper access control to modify or retrieve sensitive data like account balances.\n",
        "\n",
        "Q3. What is the abc module in Python? Why is it used?\n",
        "\n",
        "The abc module (stands for Abstract Base Classes) in Python provides tools for defining Abstract Base Classes (ABCs) and enforcing their use in concrete subclasses.\n",
        "\n",
        "Why use abc?\n",
        "\n",
        "Standardization: It ensures all subclasses implement the required methods defined in the ABC.\n",
        "Code clarity: Makes it explicit which methods are abstract and need implementation.\n",
        "Type checking (optional): Third-party libraries can leverage ABCs to perform type checks and ensure correct usage.\n",
        "\n",
        "\n",
        "Q4. How can we achieve data abstraction?\n",
        "\n",
        "Data abstraction can be achieved through:\n",
        "\n",
        "Access modifiers: Public, private, and protected access specifiers in languages like Python and Java restrict direct access to data members, promoting controlled access through methods.\n",
        "Properties: Getters and setters (methods to read and write data) provide a controlled way to access and modify data while potentially performing validation or other operations.\n",
        "\n",
        "\n",
        "Q5. Can we create an instance of an abstract class? Explain your answer.\n",
        "\n",
        "No, you cannot directly create an instance of an abstract class. Since an abstract class defines at least one abstract method (a method with no implementation), it cannot provide a complete blueprint for an object. The purpose of an abstract class is to serve as a template for concrete subclasses that inherit and implement the abstract methods, providing full functionality."
      ],
      "metadata": {
        "id": "6UGae7io0LOa"
      }
    }
  ]
}