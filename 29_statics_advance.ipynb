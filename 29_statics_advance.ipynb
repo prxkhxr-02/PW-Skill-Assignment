{
 "cells": [
  {
   "cell_type": "code",
   "execution_count": null,
   "metadata": {},
   "outputs": [],
   "source": []
  },
  {
   "cell_type": "markdown",
   "metadata": {},
   "source": [
    "### Q1. What is the Probability density function?\n",
    "Ans -> The Probability Density Function (PDF) is a concept used in statistics and probability theory. It's a way to describe how likely different values are to occur in a continuous random variable. In simpler terms:\n",
    "\n",
    "Imagine you have a random variable, like the height of people in a city. The PDF tells you how likely it is for someone to have a certain height. It gives you a curve that shows the probabilities for different height ranges. \n",
    "\n",
    "In this curve, the higher points represent the heights that are more likely to occur, and the lower points represent the heights that are less likely. The total area under the curve is equal to 1, which means that the sum of all probabilities for all possible heights is 100%.\n",
    "\n",
    "In summary, the PDF helps us understand the chances of different values happening in a continuous situation, like measuring heights or temperatures. It's like a tool to figure out the likelihood of different outcomes."
   ]
  }
 ],
 "metadata": {
  "kernelspec": {
   "display_name": "Python 3",
   "language": "python",
   "name": "python3"
  },
  "language_info": {
   "codemirror_mode": {
    "name": "ipython",
    "version": 3
   },
   "file_extension": ".py",
   "mimetype": "text/x-python",
   "name": "python",
   "nbconvert_exporter": "python",
   "pygments_lexer": "ipython3",
   "version": "3.10.2"
  },
  "orig_nbformat": 4
 },
 "nbformat": 4,
 "nbformat_minor": 2
}
