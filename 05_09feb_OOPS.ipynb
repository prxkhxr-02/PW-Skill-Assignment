{
 "cells": [
  {
   "attachments": {},
   "cell_type": "markdown",
   "metadata": {},
   "source": [
    "### Q1, Create a vehicle class with an init method having instance variables as name_of_vehicle, max_speed and average_of_vehicle"
   ]
  },
  {
   "cell_type": "code",
   "execution_count": 15,
   "metadata": {},
   "outputs": [
    {
     "name": "stdout",
     "output_type": "stream",
     "text": [
      "{'name_of_vehicle': 'BMW', 'max_speed': 34, 'average_of_vehicle': 23}\n"
     ]
    }
   ],
   "source": [
    "class vehical :\n",
    "    def __init__(self ,name_of_vehicle ,max_speed,average_of_vehicle):\n",
    "        average_of_vehicle\n",
    "        self.name_of_vehicle = name_of_vehicle\n",
    "        self.max_speed = max_speed\n",
    "        self.average_of_vehicle = average_of_vehicle\n",
    "\n",
    "scv = vehical(\"BMW\",34,23)\n",
    "print(scv.__dict__)\n"
   ]
  },
  {
   "attachments": {},
   "cell_type": "markdown",
   "metadata": {},
   "source": [
    "### Q2.  Create a child class car from the vehicle class created in Que 1, which will inherit the vehicle class. Create a method named seating_capacity which takes capacity as an argument and returns the name of the vehicle and its seating capacity."
   ]
  },
  {
   "cell_type": "code",
   "execution_count": 16,
   "metadata": {},
   "outputs": [
    {
     "name": "stdout",
     "output_type": "stream",
     "text": [
      "BMW 1\n"
     ]
    }
   ],
   "source": [
    "class child (vehical):\n",
    "    def display(self , cp):\n",
    "        print(self.name_of_vehicle ,cp)\n",
    "\n",
    "cap1 = child(\"BMW\",34,23)\n",
    "cap1.display(1)\n"
   ]
  },
  {
   "attachments": {},
   "cell_type": "markdown",
   "metadata": {},
   "source": [
    "### Q3. What is multiple inheritance? Write a python code to demonstrate multiple inheritance.\n",
    "\n",
    "Ans -> A class inherit the proprety of multiple class is called as Multiple inheritance\n"
   ]
  },
  {
   "cell_type": "code",
   "execution_count": 17,
   "metadata": {},
   "outputs": [
    {
     "name": "stdout",
     "output_type": "stream",
     "text": [
      "This is man class \n"
     ]
    }
   ],
   "source": [
    "class man :\n",
    "    def __init__(self, age , sex):\n",
    "        self.age = age\n",
    "        self.sex = sex\n",
    "    def display():\n",
    "        print(\"This is man class \")\n",
    "class women :\n",
    "    def __init__(self, age , sex):\n",
    "        self.age = age\n",
    "        self.sex = sex\n",
    "    def display():\n",
    "        print(\"This is women class \")\n",
    "\n",
    "class human (man ,women):\n",
    "    pass\n",
    "\n",
    "\n",
    "h1 = human\n",
    "h1.display()"
   ]
  },
  {
   "attachments": {},
   "cell_type": "markdown",
   "metadata": {},
   "source": [
    "### Q4. What are getter and setter in python? Create a class and create a getter and a setter method in this class.\n",
    "Ans -> getter and setter are the method in python used to access the to the attribute of the class . the getter allow to retrieve and setter modify the data \n"
   ]
  },
  {
   "cell_type": "code",
   "execution_count": 18,
   "metadata": {},
   "outputs": [
    {
     "name": "stdout",
     "output_type": "stream",
     "text": [
      "23\n"
     ]
    }
   ],
   "source": [
    "class car :\n",
    "    speed = 0\n",
    "    def get_speed (self):\n",
    "        return self.speed\n",
    "    def set_speed (self,speed):\n",
    "        self.speed = speed\n",
    "\n",
    "c1 = car()\n",
    "c1.set_speed(23)\n",
    "print(c1.get_speed())\n",
    "    "
   ]
  },
  {
   "attachments": {},
   "cell_type": "markdown",
   "metadata": {},
   "source": [
    "### Q5.What is method overriding in python? Write a python code to demonstrate method overriding.\n",
    "Ans -> It is the features of OOPS That allows a subclass to provide a different inplementation for a method that is define in the super class "
   ]
  },
  {
   "cell_type": "code",
   "execution_count": 19,
   "metadata": {},
   "outputs": [
    {
     "name": "stdout",
     "output_type": "stream",
     "text": [
      "area of the circle is  106.76\n",
      "area of the circle is  810000\n"
     ]
    }
   ],
   "source": [
    "class shape :\n",
    "    def area(self):\n",
    "        print (\"THe area of the shape is 0 \")\n",
    "\n",
    "\n",
    "class circle (shape):\n",
    "    def area(self):\n",
    "        pi = 34\n",
    "        print(\"area of the circle is \", 34*3.14)\n",
    "\n",
    "class squre (shape):\n",
    "    def area(self):\n",
    "        l =30\n",
    "        print(\"area of the circle is \", l**4)      \n",
    "\n",
    "\n",
    "c1 = circle()\n",
    "c1.area()\n",
    "s = squre()\n",
    "s.area()"
   ]
  }
 ],
 "metadata": {
  "kernelspec": {
   "display_name": "Python 3",
   "language": "python",
   "name": "python3"
  },
  "language_info": {
   "codemirror_mode": {
    "name": "ipython",
    "version": 3
   },
   "file_extension": ".py",
   "mimetype": "text/x-python",
   "name": "python",
   "nbconvert_exporter": "python",
   "pygments_lexer": "ipython3",
   "version": "3.11.2"
  },
  "orig_nbformat": 4
 },
 "nbformat": 4,
 "nbformat_minor": 2
}
